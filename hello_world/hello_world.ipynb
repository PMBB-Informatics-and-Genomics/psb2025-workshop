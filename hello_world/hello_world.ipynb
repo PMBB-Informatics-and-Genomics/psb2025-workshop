{
 "cells": [
  {
   "cell_type": "markdown",
   "metadata": {},
   "source": [
    "# Hello Google Collab\n",
    "\n",
    "Notes:\n",
    "- Colab sessions expire after 12 hours\n",
    "- Limited computing resources\n",
    "- Files are temporary unless saved to Google Drive\n",
    "- Run cells in order\n",
    "\n",
    "\n",
    "## Some Keyboard shortcuts\n",
    "\n",
    "| Command | Description |\n",
    "|---------|-------------|\n",
    "| `Ctrl/Cmd + m` | Initiate command |\n",
    "| `Ctrl/Cmd + m b` | Insert `code` cell below |\n",
    "| `Ctrl/Cmd + m a` | Insert `code` cell above |\n",
    "| `Ctrl/Cmd + m d` | Delete selected cell |\n",
    "| `Ctrl/Cmd + Enter` | **Run** selected cell |\n",
    "| `Ctrl/Cmd + m y` | Convert to `code` cell |\n",
    "| `Ctrl/Cmd + m m` | Convert to **markdown** cell |\n",
    "| `Ctrl/Cmd + m z` | Undo last cell deletion |\n",
    "| `Ctrl/Cmd + s` | Save notebook |\n",
    "| `Ctrl/Cmd + f` | Find and replace |\n",
    "| `Ctrl/Cmd + shift + H` | replace within cell |\n",
    "| `Ctrl/Cmd + h` | replace within cell |\n",
    "| `Tab` | Code completion |\n",
    "| `Shift + Tab` | Show documentation |\n",
    "| `Esc` | Enter command mode |\n",
    "| `Enter` | Enter edit mode |"
   ]
  },
  {
   "cell_type": "markdown",
   "metadata": {},
   "source": [
    "# Setup"
   ]
  },
  {
   "cell_type": "code",
   "execution_count": null,
   "metadata": {
    "vscode": {
     "languageId": "shellscript"
    }
   },
   "outputs": [],
   "source": [
    "# Install nextflow\n",
    "! pip install nextflow"
   ]
  },
  {
   "cell_type": "markdown",
   "metadata": {},
   "source": [
    "# Hello World"
   ]
  },
  {
   "cell_type": "code",
   "execution_count": null,
   "metadata": {},
   "outputs": [],
   "source": [
    "%%writefile hello_world/hello_world.nf\n",
    "workflow {\n",
    "    greeting_list = ['Hello', 'Hola', 'Bonjour', 'Ciao']\n",
    "    many_hellos = Channel.fromList(greeting_list)\n",
    "\n",
    "    // greetings_stdout is another Channel!\n",
    "    greetings_stdout = say_hello(many_hellos)\n",
    "    greetings_stdout | view\n",
    "}\n",
    "\n",
    "process say_hello {\n",
    "    input:\n",
    "        val(greeting)\n",
    "    output:\n",
    "        stdout\n",
    "    shell:\n",
    "        \"\"\"\n",
    "        echo \"${greeting}, World!\"\n",
    "        \"\"\"\n",
    "}"
   ]
  },
  {
   "cell_type": "code",
   "execution_count": null,
   "metadata": {},
   "outputs": [],
   "source": [
    "! nextflow run hello_world.nf"
   ]
  }
 ],
 "metadata": {
  "language_info": {
   "name": "python"
  }
 },
 "nbformat": 4,
 "nbformat_minor": 2
}
