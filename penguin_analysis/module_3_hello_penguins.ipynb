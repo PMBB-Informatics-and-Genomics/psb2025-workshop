{
  "cells": [
    {
      "cell_type": "markdown",
      "source": [
        "# Hello Google Collab\n",
        "\n",
        "IMPORTANT: Please make a copy to edit/run: File > \"Save a copy in Drive\"\n",
        "\n",
        "Notes:\n",
        "- Colab sessions expire after 12 hours\n",
        "- Limited computing resources\n",
        "- Files are temporary unless saved to Google Drive\n",
        "- Run cells in order\n",
        "\n",
        "\n",
        "## Some Keyboard shortcuts\n",
        "\n",
        "| Command | Description |\n",
        "|---------|-------------|\n",
        "| `Ctrl/Cmd + m` | Initiate command |\n",
        "| `Ctrl/Cmd + m b` | Insert `code` cell below |\n",
        "| `Ctrl/Cmd + m a` | Insert `code` cell above |\n",
        "| `Ctrl/Cmd + m d` | Delete selected cell |\n",
        "| `Ctrl/Cmd + Enter` | **Run** selected cell |\n",
        "| `Ctrl/Cmd + m y` | Convert to `code` cell |\n",
        "| `Ctrl/Cmd + m m` | Convert to **markdown** cell |\n",
        "| `Ctrl/Cmd + m z` | Undo last cell deletion |\n",
        "| `Ctrl/Cmd + s` | Save notebook |\n",
        "| `Ctrl/Cmd + f` | Find and replace |\n",
        "| `Ctrl/Cmd + shift + H` | replace within cell |\n",
        "| `Ctrl/Cmd + h` | replace within cell |\n",
        "| `Tab` | Code completion |\n",
        "| `Shift + Tab` | Show documentation |\n",
        "| `Esc` | Enter command mode |\n",
        "| `Enter` | Enter edit mode |"
      ],
      "metadata": {
        "id": "AZ9jiiti7qPJ"
      }
    },
    {
      "cell_type": "markdown",
      "metadata": {
        "id": "WZnFB0cIp-Sw"
      },
      "source": [
        "# Setup"
      ]
    },
    {
      "cell_type": "code",
      "execution_count": null,
      "metadata": {
        "id": "m8HsqoGYp-S2"
      },
      "outputs": [],
      "source": [
        "import pandas as pd\n",
        "import numpy as np\n",
        "import seaborn as sns\n",
        "import matplotlib.pyplot as plt\n",
        "%matplotlib inline"
      ]
    },
    {
      "cell_type": "code",
      "execution_count": null,
      "metadata": {
        "id": "PzTdcIirp-S5"
      },
      "outputs": [],
      "source": [
        "# Install nextflow\n",
        "! pip install nextflow\n",
        "! pip install scikit-learn"
      ]
    },
    {
      "cell_type": "markdown",
      "metadata": {
        "id": "bOaDLIMkp-S6"
      },
      "source": [
        "Setup directories"
      ]
    },
    {
      "cell_type": "code",
      "execution_count": null,
      "metadata": {
        "id": "16wAMZ9Ep-S7"
      },
      "outputs": [],
      "source": [
        "%%bash\n",
        "mkdir -p data\n",
        "mkdir -p bin\n",
        "mkdir -p results"
      ]
    },
    {
      "cell_type": "code",
      "source": [
        "!wget https://raw.githubusercontent.com/PMBB-Informatics-and-Genomics/psb2025-workshop/refs/heads/main/penguin_analysis/data/penguins_size.csv -O data/penguins_size.csv\n",
        "!wget https://github.com/PMBB-Informatics-and-Genomics/psb2025-workshop/blob/main/penguin_analysis/bin/data_cleaning.py -O bin/data_cleaning.py\n",
        "!wget https://github.com/PMBB-Informatics-and-Genomics/psb2025-workshop/blob/main/penguin_analysis/bin/species_analysis.py -O bin/species_analysis.py"
      ],
      "metadata": {
        "id": "hiXhqwAYqL07"
      },
      "execution_count": null,
      "outputs": []
    },
    {
      "cell_type": "markdown",
      "metadata": {
        "id": "vksnVHkqp-S5"
      },
      "source": [
        "Project Structure\n",
        "\n",
        "This is how the directory should look:\n",
        "\n",
        "```sh\n",
        "penguin_analysis/\n",
        "├── main.nf\n",
        "├── nextflow.config\n",
        "├── data/\n",
        "│   └── penguins.csv\n",
        "├── bin/\n",
        "│   ├── data_cleaning.py\n",
        "│   ├── species_analysis.py\n",
        "│   └── visualization.py\n",
        "└── results/\n",
        "```"
      ]
    },
    {
      "cell_type": "markdown",
      "source": [
        "# Hello World (Again)\n",
        "- let's fill in the script ourselves\n",
        "- process: input, output\n",
        "- workflow\n",
        "  - make a channel from greeting list\n",
        "  -"
      ],
      "metadata": {
        "id": "UtBNWPKUqwvc"
      }
    },
    {
      "cell_type": "code",
      "source": [
        "%%writefile bin/hello_world.nf\n",
        "#!/usr/bin/env nextflow\n",
        "\n",
        "process say_hello {\n",
        "    input:\n",
        "      // value channel for greeting\n",
        "\n",
        "    output:\n",
        "      // redirect to standard output\n",
        "\n",
        "    shell:\n",
        "        \"\"\"\n",
        "        echo \"${greeting}, World!\"\n",
        "        \"\"\"\n",
        "}\n",
        "\n",
        "workflow {\n",
        "    // greeting list\n",
        "    greeting_list = ['Hello', 'Hola', 'Bonjour', 'Ciao']\n",
        "\n",
        "    // make channel from list\n",
        "\n",
        "\n",
        "    // greetings_stdout is another Channel\n",
        "\n",
        "\n",
        "    // view the channel\n",
        "    greetings_stdout | view\n",
        "}"
      ],
      "metadata": {
        "id": "Uai_ztcUq9CK"
      },
      "execution_count": null,
      "outputs": []
    },
    {
      "cell_type": "code",
      "source": [
        "!nextflow run bin/hello_world.nf"
      ],
      "metadata": {
        "id": "hEQq7WmDrF4x"
      },
      "execution_count": null,
      "outputs": []
    },
    {
      "cell_type": "markdown",
      "metadata": {
        "id": "BTLk_Evsp-TB"
      },
      "source": [
        "# Penguins EDA (non nextflow)\n",
        "- exploratory data anlysis"
      ]
    },
    {
      "cell_type": "code",
      "execution_count": null,
      "metadata": {
        "id": "UtTQ18a0p-TB"
      },
      "outputs": [],
      "source": [
        "input_file = \"data/penguins_size.csv\"\n",
        "df = pd.read_csv(input_file)\n",
        "df.head()"
      ]
    },
    {
      "cell_type": "code",
      "execution_count": null,
      "metadata": {
        "id": "-CC-gu1Gp-TB"
      },
      "outputs": [],
      "source": [
        "#Check the statistics of numerical features\n",
        "df.describe()"
      ]
    },
    {
      "cell_type": "code",
      "execution_count": null,
      "metadata": {
        "id": "Yb2Pkygop-TC"
      },
      "outputs": [],
      "source": [
        "#Check the values of categorical features\n",
        "# Identify categorical columns (e.g., dtype == 'object' or 'category')\n",
        "categorical_columns = df.select_dtypes(include=['object', 'category']).columns\n",
        "\n",
        "# Display unique values for each categorical column\n",
        "for col in categorical_columns:\n",
        "    unique_values = df[col].unique()\n",
        "    print(f\"Unique values in '{col}': {unique_values}\")"
      ]
    },
    {
      "cell_type": "markdown",
      "source": [
        "# Let's explore the pre-written scripts\n",
        "<- click on the left to see:\n",
        "\n",
        "1. data_cleaning\n",
        "2. species_analysis\n",
        "\n",
        "\n",
        "These scripts are configured to run on command line, independent of nextflow"
      ],
      "metadata": {
        "id": "LS-fn7orxaj4"
      }
    },
    {
      "cell_type": "markdown",
      "source": [
        "# Write Nextflow Code\n",
        "\n",
        "Write the parameters\n",
        "- data path\n",
        "- data cleaning\n",
        "- data analysis\n",
        "\n",
        "Write Clean Data Process\n",
        "- syntax for code:\n",
        "```sh\n",
        "python  ${cleaning_script} --input_file ${raw_input}\n",
        "```\n",
        "\n",
        "Species Analysis process\n",
        "- syntax:\n",
        "```sh\n",
        "python ${analysis_script} --input_file ${cleaned_data} --species ${species}\n",
        "```\n",
        "\n",
        "\n",
        "\n"
      ],
      "metadata": {
        "id": "qBoOG57jtyjb"
      }
    },
    {
      "cell_type": "code",
      "execution_count": null,
      "metadata": {
        "id": "jAqwubo6p-TC"
      },
      "outputs": [],
      "source": [
        "%%writefile bin/penguins.nf\n",
        "#!/usr/bin/env nextflow\n",
        "\n",
        "params.data = ''\n",
        "params.cleaning_script = ''\n",
        "params.analysis_script = ''\n",
        "\n",
        "process clean_data {\n",
        "    publishDir \"${launchDir}/data/\"\n",
        "    input:\n",
        "\n",
        "    output:\n",
        "        path 'penguins_cleaned.csv'\n",
        "\n",
        "    script:\n",
        "    \"\"\"\n",
        "    script here\n",
        "    \"\"\"\n",
        "}\n",
        "\n",
        "process species_analysis {\n",
        "    publishDir \"${launchDir}/results/\"\n",
        "    input:\n",
        "\n",
        "    output:\n",
        "        path \"${species}_basic_stats.csv\"\n",
        "        path \"${species}_correlations.png\"\n",
        "        path \"${species}_dimorphism_stats.csv\"\n",
        "        path \"${species}_distributions.png\"\n",
        "\n",
        "    script:\n",
        "        \"\"\"\n",
        "        script here\n",
        "        \"\"\"\n",
        "}\n",
        "\n",
        "\n",
        "workflow {\n",
        "    // create a species channel\n",
        "    species_channel = Channel.from('Adelie', 'Gentoo', 'Chinstrap')\n",
        "\n",
        "    // clean the data\n",
        "\n",
        "    // run the analysis\n",
        "\n",
        "}"
      ]
    },
    {
      "cell_type": "markdown",
      "source": [
        "Run the script!"
      ],
      "metadata": {
        "id": "8PdY6a2fu_OR"
      }
    },
    {
      "cell_type": "code",
      "execution_count": null,
      "metadata": {
        "id": "cfTn9TILp-TD"
      },
      "outputs": [],
      "source": [
        "! nextflow run bin/penguins.nf"
      ]
    },
    {
      "cell_type": "markdown",
      "source": [
        "# Results"
      ],
      "metadata": {
        "id": "t-dfDoHoj9Mc"
      }
    },
    {
      "cell_type": "code",
      "source": [
        "species = 'Adelie'\n",
        "# species = 'Gentoo'\n",
        "# species = 'Chinstrap'"
      ],
      "metadata": {
        "id": "bHP_di-XkIf-"
      },
      "execution_count": null,
      "outputs": []
    },
    {
      "cell_type": "markdown",
      "source": [
        "## results: Stats"
      ],
      "metadata": {
        "id": "e4Qm5590kStM"
      }
    },
    {
      "cell_type": "code",
      "source": [
        "input_file = f\"results/{species}_basic_stats.csv\"\n",
        "stats = pd.read_csv(input_file)\n",
        "stats.head()"
      ],
      "metadata": {
        "id": "O-ljCquqkKV6"
      },
      "execution_count": null,
      "outputs": []
    },
    {
      "cell_type": "markdown",
      "source": [
        "## Results: Sexual Dimorphism"
      ],
      "metadata": {
        "id": "5pNjaDqMkVY4"
      }
    },
    {
      "cell_type": "code",
      "source": [
        "# input_file = f\"results/{species}_basic_stats.csv\"\n",
        "input_file = f\"results/{species}_dimorphism_stats.csv\"\n",
        "dimporphism = pd.read_csv(input_file)\n",
        "dimporphism.head()"
      ],
      "metadata": {
        "id": "W8SmuSmxkMj8"
      },
      "execution_count": null,
      "outputs": []
    },
    {
      "cell_type": "markdown",
      "source": [
        "## Results: Correlation"
      ],
      "metadata": {
        "id": "4bG29svWkY6W"
      }
    },
    {
      "cell_type": "code",
      "source": [
        "import matplotlib.pyplot as plt\n",
        "import matplotlib.image as mpimg\n",
        "\n",
        "correlations = f\"results/{species}_correlations.png\"\n",
        "\n",
        "img = mpimg.imread(correlations)\n",
        "plt.imshow(img)\n",
        "plt.axis('off')\n",
        "plt.show()"
      ],
      "metadata": {
        "id": "QUZrMb8tkN9b"
      },
      "execution_count": null,
      "outputs": []
    },
    {
      "cell_type": "markdown",
      "source": [
        "## Results: Distribution"
      ],
      "metadata": {
        "id": "vG2y5LFBkcbo"
      }
    },
    {
      "cell_type": "code",
      "source": [
        "import matplotlib.pyplot as plt\n",
        "import matplotlib.image as mpimg\n",
        "\n",
        "# correlations = f\"results/{species}_correlations.png\"\n",
        "distributions = f\"results/{species}_distributions.png\"\n",
        "\n",
        "img = mpimg.imread(distributions)\n",
        "plt.imshow(img)\n",
        "plt.axis('off')\n",
        "plt.show()"
      ],
      "metadata": {
        "id": "BXoNToJnkPhv"
      },
      "execution_count": null,
      "outputs": []
    }
  ],
  "metadata": {
    "kernelspec": {
      "display_name": "bioinformatics",
      "language": "python",
      "name": "python3"
    },
    "language_info": {
      "codemirror_mode": {
        "name": "ipython",
        "version": 3
      },
      "file_extension": ".py",
      "mimetype": "text/x-python",
      "name": "python",
      "nbconvert_exporter": "python",
      "pygments_lexer": "ipython3",
      "version": "3.12.1"
    },
    "colab": {
      "provenance": []
    }
  },
  "nbformat": 4,
  "nbformat_minor": 0
}